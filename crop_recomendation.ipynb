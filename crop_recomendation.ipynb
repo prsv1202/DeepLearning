{
  "nbformat": 4,
  "nbformat_minor": 0,
  "metadata": {
    "colab": {
      "name": "crop_recomendation.ipynb",
      "provenance": [],
      "authorship_tag": "ABX9TyOoEtfWJ1fmPVo/E+QX0XKd",
      "include_colab_link": true
    },
    "kernelspec": {
      "name": "python3",
      "display_name": "Python 3"
    },
    "language_info": {
      "name": "python"
    }
  },
  "cells": [
    {
      "cell_type": "markdown",
      "metadata": {
        "id": "view-in-github",
        "colab_type": "text"
      },
      "source": [
        "<a href=\"https://colab.research.google.com/github/prsv1202/machinelearning2/blob/main/crop_recomendation.ipynb\" target=\"_parent\"><img src=\"https://colab.research.google.com/assets/colab-badge.svg\" alt=\"Open In Colab\"/></a>"
      ]
    },
    {
      "cell_type": "code",
      "execution_count": 1,
      "metadata": {
        "id": "eBF6LgAKmmr8"
      },
      "outputs": [],
      "source": [
        "import pandas as pd\n",
        "import matplotlib.pyplot as plt\n",
        "import numpy as np\n",
        "import pylab\n",
        "from sklearn import preprocessing\n",
        "from sklearn.tree import DecisionTreeClassifier\n",
        "from sklearn.linear_model import LinearRegression"
      ]
    },
    {
      "cell_type": "code",
      "source": [
        "basic=pd.read_csv('/content/location_Avail.csv')\n",
        "basic.head()"
      ],
      "metadata": {
        "colab": {
          "base_uri": "https://localhost:8080/",
          "height": 270
        },
        "id": "k3d47ngtmw4_",
        "outputId": "b89e9558-1ee9-4b4d-a213-93320eb74001"
      },
      "execution_count": 2,
      "outputs": [
        {
          "output_type": "execute_result",
          "data": {
            "text/plain": [
              "       SOIL        STATE  Rice  Cotton  Sugarcane  Wheat  Millets  Cardamom  \\\n",
              "0   Aluvial  Maharashtra     1       0          0      1        0         0   \n",
              "1     Black  Maharashtra     0       1          0      0        0         0   \n",
              "2       Red  Maharashtra     0       0          1      0        0         0   \n",
              "3  Laterite  Maharashtra     0       0          0      0        1         0   \n",
              "4  Mountain  Maharashtra     0       0          0      0        0         0   \n",
              "\n",
              "   Ginger  Coconut  Orange  Soyabean  Maize  \n",
              "0       0        0       0         0      0  \n",
              "1       0        0       0         0      0  \n",
              "2       0        0       0         0      0  \n",
              "3       0        0       0         0      0  \n",
              "4       0        0       0         0      0  "
            ],
            "text/html": [
              "\n",
              "  <div id=\"df-45c08c0c-bc28-4e6a-95c4-edb5d928bff5\">\n",
              "    <div class=\"colab-df-container\">\n",
              "      <div>\n",
              "<style scoped>\n",
              "    .dataframe tbody tr th:only-of-type {\n",
              "        vertical-align: middle;\n",
              "    }\n",
              "\n",
              "    .dataframe tbody tr th {\n",
              "        vertical-align: top;\n",
              "    }\n",
              "\n",
              "    .dataframe thead th {\n",
              "        text-align: right;\n",
              "    }\n",
              "</style>\n",
              "<table border=\"1\" class=\"dataframe\">\n",
              "  <thead>\n",
              "    <tr style=\"text-align: right;\">\n",
              "      <th></th>\n",
              "      <th>SOIL</th>\n",
              "      <th>STATE</th>\n",
              "      <th>Rice</th>\n",
              "      <th>Cotton</th>\n",
              "      <th>Sugarcane</th>\n",
              "      <th>Wheat</th>\n",
              "      <th>Millets</th>\n",
              "      <th>Cardamom</th>\n",
              "      <th>Ginger</th>\n",
              "      <th>Coconut</th>\n",
              "      <th>Orange</th>\n",
              "      <th>Soyabean</th>\n",
              "      <th>Maize</th>\n",
              "    </tr>\n",
              "  </thead>\n",
              "  <tbody>\n",
              "    <tr>\n",
              "      <th>0</th>\n",
              "      <td>Aluvial</td>\n",
              "      <td>Maharashtra</td>\n",
              "      <td>1</td>\n",
              "      <td>0</td>\n",
              "      <td>0</td>\n",
              "      <td>1</td>\n",
              "      <td>0</td>\n",
              "      <td>0</td>\n",
              "      <td>0</td>\n",
              "      <td>0</td>\n",
              "      <td>0</td>\n",
              "      <td>0</td>\n",
              "      <td>0</td>\n",
              "    </tr>\n",
              "    <tr>\n",
              "      <th>1</th>\n",
              "      <td>Black</td>\n",
              "      <td>Maharashtra</td>\n",
              "      <td>0</td>\n",
              "      <td>1</td>\n",
              "      <td>0</td>\n",
              "      <td>0</td>\n",
              "      <td>0</td>\n",
              "      <td>0</td>\n",
              "      <td>0</td>\n",
              "      <td>0</td>\n",
              "      <td>0</td>\n",
              "      <td>0</td>\n",
              "      <td>0</td>\n",
              "    </tr>\n",
              "    <tr>\n",
              "      <th>2</th>\n",
              "      <td>Red</td>\n",
              "      <td>Maharashtra</td>\n",
              "      <td>0</td>\n",
              "      <td>0</td>\n",
              "      <td>1</td>\n",
              "      <td>0</td>\n",
              "      <td>0</td>\n",
              "      <td>0</td>\n",
              "      <td>0</td>\n",
              "      <td>0</td>\n",
              "      <td>0</td>\n",
              "      <td>0</td>\n",
              "      <td>0</td>\n",
              "    </tr>\n",
              "    <tr>\n",
              "      <th>3</th>\n",
              "      <td>Laterite</td>\n",
              "      <td>Maharashtra</td>\n",
              "      <td>0</td>\n",
              "      <td>0</td>\n",
              "      <td>0</td>\n",
              "      <td>0</td>\n",
              "      <td>1</td>\n",
              "      <td>0</td>\n",
              "      <td>0</td>\n",
              "      <td>0</td>\n",
              "      <td>0</td>\n",
              "      <td>0</td>\n",
              "      <td>0</td>\n",
              "    </tr>\n",
              "    <tr>\n",
              "      <th>4</th>\n",
              "      <td>Mountain</td>\n",
              "      <td>Maharashtra</td>\n",
              "      <td>0</td>\n",
              "      <td>0</td>\n",
              "      <td>0</td>\n",
              "      <td>0</td>\n",
              "      <td>0</td>\n",
              "      <td>0</td>\n",
              "      <td>0</td>\n",
              "      <td>0</td>\n",
              "      <td>0</td>\n",
              "      <td>0</td>\n",
              "      <td>0</td>\n",
              "    </tr>\n",
              "  </tbody>\n",
              "</table>\n",
              "</div>\n",
              "      <button class=\"colab-df-convert\" onclick=\"convertToInteractive('df-45c08c0c-bc28-4e6a-95c4-edb5d928bff5')\"\n",
              "              title=\"Convert this dataframe to an interactive table.\"\n",
              "              style=\"display:none;\">\n",
              "        \n",
              "  <svg xmlns=\"http://www.w3.org/2000/svg\" height=\"24px\"viewBox=\"0 0 24 24\"\n",
              "       width=\"24px\">\n",
              "    <path d=\"M0 0h24v24H0V0z\" fill=\"none\"/>\n",
              "    <path d=\"M18.56 5.44l.94 2.06.94-2.06 2.06-.94-2.06-.94-.94-2.06-.94 2.06-2.06.94zm-11 1L8.5 8.5l.94-2.06 2.06-.94-2.06-.94L8.5 2.5l-.94 2.06-2.06.94zm10 10l.94 2.06.94-2.06 2.06-.94-2.06-.94-.94-2.06-.94 2.06-2.06.94z\"/><path d=\"M17.41 7.96l-1.37-1.37c-.4-.4-.92-.59-1.43-.59-.52 0-1.04.2-1.43.59L10.3 9.45l-7.72 7.72c-.78.78-.78 2.05 0 2.83L4 21.41c.39.39.9.59 1.41.59.51 0 1.02-.2 1.41-.59l7.78-7.78 2.81-2.81c.8-.78.8-2.07 0-2.86zM5.41 20L4 18.59l7.72-7.72 1.47 1.35L5.41 20z\"/>\n",
              "  </svg>\n",
              "      </button>\n",
              "      \n",
              "  <style>\n",
              "    .colab-df-container {\n",
              "      display:flex;\n",
              "      flex-wrap:wrap;\n",
              "      gap: 12px;\n",
              "    }\n",
              "\n",
              "    .colab-df-convert {\n",
              "      background-color: #E8F0FE;\n",
              "      border: none;\n",
              "      border-radius: 50%;\n",
              "      cursor: pointer;\n",
              "      display: none;\n",
              "      fill: #1967D2;\n",
              "      height: 32px;\n",
              "      padding: 0 0 0 0;\n",
              "      width: 32px;\n",
              "    }\n",
              "\n",
              "    .colab-df-convert:hover {\n",
              "      background-color: #E2EBFA;\n",
              "      box-shadow: 0px 1px 2px rgba(60, 64, 67, 0.3), 0px 1px 3px 1px rgba(60, 64, 67, 0.15);\n",
              "      fill: #174EA6;\n",
              "    }\n",
              "\n",
              "    [theme=dark] .colab-df-convert {\n",
              "      background-color: #3B4455;\n",
              "      fill: #D2E3FC;\n",
              "    }\n",
              "\n",
              "    [theme=dark] .colab-df-convert:hover {\n",
              "      background-color: #434B5C;\n",
              "      box-shadow: 0px 1px 3px 1px rgba(0, 0, 0, 0.15);\n",
              "      filter: drop-shadow(0px 1px 2px rgba(0, 0, 0, 0.3));\n",
              "      fill: #FFFFFF;\n",
              "    }\n",
              "  </style>\n",
              "\n",
              "      <script>\n",
              "        const buttonEl =\n",
              "          document.querySelector('#df-45c08c0c-bc28-4e6a-95c4-edb5d928bff5 button.colab-df-convert');\n",
              "        buttonEl.style.display =\n",
              "          google.colab.kernel.accessAllowed ? 'block' : 'none';\n",
              "\n",
              "        async function convertToInteractive(key) {\n",
              "          const element = document.querySelector('#df-45c08c0c-bc28-4e6a-95c4-edb5d928bff5');\n",
              "          const dataTable =\n",
              "            await google.colab.kernel.invokeFunction('convertToInteractive',\n",
              "                                                     [key], {});\n",
              "          if (!dataTable) return;\n",
              "\n",
              "          const docLinkHtml = 'Like what you see? Visit the ' +\n",
              "            '<a target=\"_blank\" href=https://colab.research.google.com/notebooks/data_table.ipynb>data table notebook</a>'\n",
              "            + ' to learn more about interactive tables.';\n",
              "          element.innerHTML = '';\n",
              "          dataTable['output_type'] = 'display_data';\n",
              "          await google.colab.output.renderOutput(dataTable, element);\n",
              "          const docLink = document.createElement('div');\n",
              "          docLink.innerHTML = docLinkHtml;\n",
              "          element.appendChild(docLink);\n",
              "        }\n",
              "      </script>\n",
              "    </div>\n",
              "  </div>\n",
              "  "
            ]
          },
          "metadata": {},
          "execution_count": 2
        }
      ]
    },
    {
      "cell_type": "code",
      "source": [
        "location=input(\"Enter the location : \")\n",
        "soil=input(\"Enter the Soil : \")"
      ],
      "metadata": {
        "colab": {
          "base_uri": "https://localhost:8080/"
        },
        "id": "ZPLaQgBUm4n7",
        "outputId": "631fb5de-552b-4330-bfe6-42d54079f080"
      },
      "execution_count": 3,
      "outputs": [
        {
          "name": "stdout",
          "output_type": "stream",
          "text": [
            "Enter the location : Maharashtra\n",
            "Enter the Soil : Red\n"
          ]
        }
      ]
    },
    {
      "cell_type": "code",
      "source": [
        "le = preprocessing.LabelEncoder()\n",
        "x1 = basic[\"SOIL\"]\n",
        "y1 = basic[\"STATE\"]\n",
        "x = le.fit_transform(x1)\n",
        "y = le.fit_transform(y1)\n",
        "basic1 = basic.merge(pd.DataFrame({'SOIL_C':x,'STATE_C':y}),right_index=True,left_index = True)\n",
        "basic1.head()\n",
        "ordinary=basic1.query('STATE == @location and SOIL == @soil')\n",
        "# ordinary=basic1.merge(pd.DataFrame({'SOIL_C':x,'STATE_C':y}),right_index=True,left_index = True)\n",
        "d=ordinary[['STATE_C','SOIL_C']].values\n",
        "d\n",
        "basic1.head()"
      ],
      "metadata": {
        "colab": {
          "base_uri": "https://localhost:8080/",
          "height": 270
        },
        "id": "bATVAIham5dK",
        "outputId": "410bbd9e-9f6d-43cf-ca81-2f9333644d9c"
      },
      "execution_count": 4,
      "outputs": [
        {
          "output_type": "execute_result",
          "data": {
            "text/plain": [
              "       SOIL        STATE  Rice  Cotton  Sugarcane  Wheat  Millets  Cardamom  \\\n",
              "0   Aluvial  Maharashtra     1       0          0      1        0         0   \n",
              "1     Black  Maharashtra     0       1          0      0        0         0   \n",
              "2       Red  Maharashtra     0       0          1      0        0         0   \n",
              "3  Laterite  Maharashtra     0       0          0      0        1         0   \n",
              "4  Mountain  Maharashtra     0       0          0      0        0         0   \n",
              "\n",
              "   Ginger  Coconut  Orange  Soyabean  Maize  SOIL_C  STATE_C  \n",
              "0       0        0       0         0      0       0        2  \n",
              "1       0        0       0         0      0       1        2  \n",
              "2       0        0       0         0      0       5        2  \n",
              "3       0        0       0         0      0       3        2  \n",
              "4       0        0       0         0      0       4        2  "
            ],
            "text/html": [
              "\n",
              "  <div id=\"df-1860c6b1-d1f9-4799-818e-b2d246c9ef51\">\n",
              "    <div class=\"colab-df-container\">\n",
              "      <div>\n",
              "<style scoped>\n",
              "    .dataframe tbody tr th:only-of-type {\n",
              "        vertical-align: middle;\n",
              "    }\n",
              "\n",
              "    .dataframe tbody tr th {\n",
              "        vertical-align: top;\n",
              "    }\n",
              "\n",
              "    .dataframe thead th {\n",
              "        text-align: right;\n",
              "    }\n",
              "</style>\n",
              "<table border=\"1\" class=\"dataframe\">\n",
              "  <thead>\n",
              "    <tr style=\"text-align: right;\">\n",
              "      <th></th>\n",
              "      <th>SOIL</th>\n",
              "      <th>STATE</th>\n",
              "      <th>Rice</th>\n",
              "      <th>Cotton</th>\n",
              "      <th>Sugarcane</th>\n",
              "      <th>Wheat</th>\n",
              "      <th>Millets</th>\n",
              "      <th>Cardamom</th>\n",
              "      <th>Ginger</th>\n",
              "      <th>Coconut</th>\n",
              "      <th>Orange</th>\n",
              "      <th>Soyabean</th>\n",
              "      <th>Maize</th>\n",
              "      <th>SOIL_C</th>\n",
              "      <th>STATE_C</th>\n",
              "    </tr>\n",
              "  </thead>\n",
              "  <tbody>\n",
              "    <tr>\n",
              "      <th>0</th>\n",
              "      <td>Aluvial</td>\n",
              "      <td>Maharashtra</td>\n",
              "      <td>1</td>\n",
              "      <td>0</td>\n",
              "      <td>0</td>\n",
              "      <td>1</td>\n",
              "      <td>0</td>\n",
              "      <td>0</td>\n",
              "      <td>0</td>\n",
              "      <td>0</td>\n",
              "      <td>0</td>\n",
              "      <td>0</td>\n",
              "      <td>0</td>\n",
              "      <td>0</td>\n",
              "      <td>2</td>\n",
              "    </tr>\n",
              "    <tr>\n",
              "      <th>1</th>\n",
              "      <td>Black</td>\n",
              "      <td>Maharashtra</td>\n",
              "      <td>0</td>\n",
              "      <td>1</td>\n",
              "      <td>0</td>\n",
              "      <td>0</td>\n",
              "      <td>0</td>\n",
              "      <td>0</td>\n",
              "      <td>0</td>\n",
              "      <td>0</td>\n",
              "      <td>0</td>\n",
              "      <td>0</td>\n",
              "      <td>0</td>\n",
              "      <td>1</td>\n",
              "      <td>2</td>\n",
              "    </tr>\n",
              "    <tr>\n",
              "      <th>2</th>\n",
              "      <td>Red</td>\n",
              "      <td>Maharashtra</td>\n",
              "      <td>0</td>\n",
              "      <td>0</td>\n",
              "      <td>1</td>\n",
              "      <td>0</td>\n",
              "      <td>0</td>\n",
              "      <td>0</td>\n",
              "      <td>0</td>\n",
              "      <td>0</td>\n",
              "      <td>0</td>\n",
              "      <td>0</td>\n",
              "      <td>0</td>\n",
              "      <td>5</td>\n",
              "      <td>2</td>\n",
              "    </tr>\n",
              "    <tr>\n",
              "      <th>3</th>\n",
              "      <td>Laterite</td>\n",
              "      <td>Maharashtra</td>\n",
              "      <td>0</td>\n",
              "      <td>0</td>\n",
              "      <td>0</td>\n",
              "      <td>0</td>\n",
              "      <td>1</td>\n",
              "      <td>0</td>\n",
              "      <td>0</td>\n",
              "      <td>0</td>\n",
              "      <td>0</td>\n",
              "      <td>0</td>\n",
              "      <td>0</td>\n",
              "      <td>3</td>\n",
              "      <td>2</td>\n",
              "    </tr>\n",
              "    <tr>\n",
              "      <th>4</th>\n",
              "      <td>Mountain</td>\n",
              "      <td>Maharashtra</td>\n",
              "      <td>0</td>\n",
              "      <td>0</td>\n",
              "      <td>0</td>\n",
              "      <td>0</td>\n",
              "      <td>0</td>\n",
              "      <td>0</td>\n",
              "      <td>0</td>\n",
              "      <td>0</td>\n",
              "      <td>0</td>\n",
              "      <td>0</td>\n",
              "      <td>0</td>\n",
              "      <td>4</td>\n",
              "      <td>2</td>\n",
              "    </tr>\n",
              "  </tbody>\n",
              "</table>\n",
              "</div>\n",
              "      <button class=\"colab-df-convert\" onclick=\"convertToInteractive('df-1860c6b1-d1f9-4799-818e-b2d246c9ef51')\"\n",
              "              title=\"Convert this dataframe to an interactive table.\"\n",
              "              style=\"display:none;\">\n",
              "        \n",
              "  <svg xmlns=\"http://www.w3.org/2000/svg\" height=\"24px\"viewBox=\"0 0 24 24\"\n",
              "       width=\"24px\">\n",
              "    <path d=\"M0 0h24v24H0V0z\" fill=\"none\"/>\n",
              "    <path d=\"M18.56 5.44l.94 2.06.94-2.06 2.06-.94-2.06-.94-.94-2.06-.94 2.06-2.06.94zm-11 1L8.5 8.5l.94-2.06 2.06-.94-2.06-.94L8.5 2.5l-.94 2.06-2.06.94zm10 10l.94 2.06.94-2.06 2.06-.94-2.06-.94-.94-2.06-.94 2.06-2.06.94z\"/><path d=\"M17.41 7.96l-1.37-1.37c-.4-.4-.92-.59-1.43-.59-.52 0-1.04.2-1.43.59L10.3 9.45l-7.72 7.72c-.78.78-.78 2.05 0 2.83L4 21.41c.39.39.9.59 1.41.59.51 0 1.02-.2 1.41-.59l7.78-7.78 2.81-2.81c.8-.78.8-2.07 0-2.86zM5.41 20L4 18.59l7.72-7.72 1.47 1.35L5.41 20z\"/>\n",
              "  </svg>\n",
              "      </button>\n",
              "      \n",
              "  <style>\n",
              "    .colab-df-container {\n",
              "      display:flex;\n",
              "      flex-wrap:wrap;\n",
              "      gap: 12px;\n",
              "    }\n",
              "\n",
              "    .colab-df-convert {\n",
              "      background-color: #E8F0FE;\n",
              "      border: none;\n",
              "      border-radius: 50%;\n",
              "      cursor: pointer;\n",
              "      display: none;\n",
              "      fill: #1967D2;\n",
              "      height: 32px;\n",
              "      padding: 0 0 0 0;\n",
              "      width: 32px;\n",
              "    }\n",
              "\n",
              "    .colab-df-convert:hover {\n",
              "      background-color: #E2EBFA;\n",
              "      box-shadow: 0px 1px 2px rgba(60, 64, 67, 0.3), 0px 1px 3px 1px rgba(60, 64, 67, 0.15);\n",
              "      fill: #174EA6;\n",
              "    }\n",
              "\n",
              "    [theme=dark] .colab-df-convert {\n",
              "      background-color: #3B4455;\n",
              "      fill: #D2E3FC;\n",
              "    }\n",
              "\n",
              "    [theme=dark] .colab-df-convert:hover {\n",
              "      background-color: #434B5C;\n",
              "      box-shadow: 0px 1px 3px 1px rgba(0, 0, 0, 0.15);\n",
              "      filter: drop-shadow(0px 1px 2px rgba(0, 0, 0, 0.3));\n",
              "      fill: #FFFFFF;\n",
              "    }\n",
              "  </style>\n",
              "\n",
              "      <script>\n",
              "        const buttonEl =\n",
              "          document.querySelector('#df-1860c6b1-d1f9-4799-818e-b2d246c9ef51 button.colab-df-convert');\n",
              "        buttonEl.style.display =\n",
              "          google.colab.kernel.accessAllowed ? 'block' : 'none';\n",
              "\n",
              "        async function convertToInteractive(key) {\n",
              "          const element = document.querySelector('#df-1860c6b1-d1f9-4799-818e-b2d246c9ef51');\n",
              "          const dataTable =\n",
              "            await google.colab.kernel.invokeFunction('convertToInteractive',\n",
              "                                                     [key], {});\n",
              "          if (!dataTable) return;\n",
              "\n",
              "          const docLinkHtml = 'Like what you see? Visit the ' +\n",
              "            '<a target=\"_blank\" href=https://colab.research.google.com/notebooks/data_table.ipynb>data table notebook</a>'\n",
              "            + ' to learn more about interactive tables.';\n",
              "          element.innerHTML = '';\n",
              "          dataTable['output_type'] = 'display_data';\n",
              "          await google.colab.output.renderOutput(dataTable, element);\n",
              "          const docLink = document.createElement('div');\n",
              "          docLink.innerHTML = docLinkHtml;\n",
              "          element.appendChild(docLink);\n",
              "        }\n",
              "      </script>\n",
              "    </div>\n",
              "  </div>\n",
              "  "
            ]
          },
          "metadata": {},
          "execution_count": 4
        }
      ]
    },
    {
      "cell_type": "code",
      "source": [
        "d"
      ],
      "metadata": {
        "colab": {
          "base_uri": "https://localhost:8080/"
        },
        "id": "BKfjFgbSwURZ",
        "outputId": "34cac2f9-896f-4b08-9639-9aede53cdadd"
      },
      "execution_count": 5,
      "outputs": [
        {
          "output_type": "execute_result",
          "data": {
            "text/plain": [
              "array([[2, 5]])"
            ]
          },
          "metadata": {},
          "execution_count": 5
        }
      ]
    },
    {
      "cell_type": "code",
      "source": [
        "X = basic1[['STATE_C','SOIL_C']]\n",
        "Y = basic1[['Rice','Cotton','Sugarcane','Wheat','Millets','Cardamom','Ginger','Coconut','Orange','Soyabean','Maize']]"
      ],
      "metadata": {
        "id": "AdbJ6Tncm5ry"
      },
      "execution_count": 6,
      "outputs": []
    },
    {
      "cell_type": "code",
      "source": [
        "classifier = DecisionTreeClassifier()\n",
        "classifier.fit(X,Y)"
      ],
      "metadata": {
        "colab": {
          "base_uri": "https://localhost:8080/"
        },
        "id": "T9sPwaYCm6tv",
        "outputId": "f45a49e7-0738-4df9-e02b-600c560de8e8"
      },
      "execution_count": 7,
      "outputs": [
        {
          "output_type": "execute_result",
          "data": {
            "text/plain": [
              "DecisionTreeClassifier()"
            ]
          },
          "metadata": {},
          "execution_count": 7
        }
      ]
    },
    {
      "cell_type": "code",
      "source": [
        "a = classifier.predict(d)\n",
        "a"
      ],
      "metadata": {
        "colab": {
          "base_uri": "https://localhost:8080/"
        },
        "id": "wSXSFoHbm602",
        "outputId": "626af24f-cd42-487a-f93e-883ac657574f"
      },
      "execution_count": 8,
      "outputs": [
        {
          "output_type": "stream",
          "name": "stderr",
          "text": [
            "/usr/local/lib/python3.7/dist-packages/sklearn/base.py:451: UserWarning: X does not have valid feature names, but DecisionTreeClassifier was fitted with feature names\n",
            "  \"X does not have valid feature names, but\"\n"
          ]
        },
        {
          "output_type": "execute_result",
          "data": {
            "text/plain": [
              "array([[0, 0, 1, 0, 0, 0, 0, 0, 0, 0, 0]])"
            ]
          },
          "metadata": {},
          "execution_count": 8
        }
      ]
    },
    {
      "cell_type": "code",
      "source": [
        "rice_predict_yeild = \"\"\n",
        "rice_predict_profit = \"\"\n",
        "rice_predict_cost =  \"\"\n",
        "cotton_predict_yeild = \"\"\n",
        "cotton_predict_profit = \"\"    \n",
        "cotton_predict_cost = \"\"\n",
        "sugarcane_predict_yeild = \"\"\n",
        "sugarcane_predict_profit = \"\"\n",
        "sugarcane_predict_cost = \"\"\n",
        "wheat_predict_yeild = \"\"\n",
        "wheat_predict_profit = \"\"\n",
        "wheat_predict_cost = \"\"\n",
        "millets_predict_yeild = \"\"\n",
        "millets_predict_profit = \"\"\n",
        "millets_predict_cost = \"\"\n",
        "carda_predict_yeild = \"\"\n",
        "carda_predict_profit = \"\"\n",
        "carda_predict_cost =\"\"\n",
        "gin_predict_yeild =\"\"\n",
        "gin_predict_profit =\"\"\n",
        "gin_predict_cost =\"\"\n",
        "coco_predict_yeild =\"\"\n",
        "coco_predict_profit =\"\"\n",
        "coco_predict_cost =\"\"\n",
        "orange_predict_yeild =\"\"\n",
        "orange_predict_profit =\"\"\n",
        "orange_predict_cost =\"\"\n",
        "soya_predict_yeild =\"\"\n",
        "soya_predict_profit =\"\"\n",
        "soya_predict_cost =\"\"\n",
        "mai_predict_yeild =\"\"\n",
        "mai_predict_profit =\"\"\n",
        "mai_predict_cost = \"\""
      ],
      "metadata": {
        "id": "H1MiKr0tm67Q"
      },
      "execution_count": 9,
      "outputs": []
    },
    {
      "cell_type": "code",
      "source": [
        "for i in range(0,11,1):\n",
        "    if a[0][i] == 1:\n",
        "        if i == 0:\n",
        "            print(\"Rice\")\n",
        "            crop=\"Rice\"\n",
        "            data = pd.read_csv('/content/cropdata.csv')\n",
        "            data1=data.query('STATE == @location and CROP == @crop')\n",
        "            regressor=LinearRegression()\n",
        "            X=data1[['YEAR']]\n",
        "            Y=data1['YEILD']\n",
        "            Z=data1['PROFIT']\n",
        "            W=data1['COST OF CULTIVATION']\n",
        "            #predection of yeild\n",
        "            regressor.fit(X,Y)\n",
        "            #a1=regressor.score(X,Y)*100\n",
        "            rice_predict_yeild = regressor.predict([[2010]])\n",
        "            #predection of profit\n",
        "            regressor.fit(X,Z)\n",
        "            #b1=regressor.score(X,Z)*100\n",
        "            rice_predict_profit = regressor.predict([[2010]])\n",
        "            #prediction of cost of cultivation\n",
        "            regressor.fit(X,W)\n",
        "            #c1=regressor.score(X,W)*100\n",
        "            rice_predict_cost = regressor.predict([[2010]])\n",
        "        elif i == 1:\n",
        "            print(\"Cotton\")\n",
        "            crop=\"Cotton\"\n",
        "            data = pd.read_csv('/content/cropdata.csv')\n",
        "            data2=data.query('STATE == @location and CROP == @crop')\n",
        "            regressor=LinearRegression()\n",
        "            X=data2[['YEAR']]\n",
        "            Y=data2['YEILD']\n",
        "            Z=data2['PROFIT']\n",
        "            W=data2['COST OF CULTIVATION']\n",
        "            #prediction of the yeild\n",
        "            regressor.fit(X,Y)\n",
        "            \n",
        "            cotton_predict_yeild = regressor.predict([[2010]])\n",
        "            #prediction of the profit\n",
        "            regressor.fit(X,Z)\n",
        "            \n",
        "            cotton_predict_profit = regressor.predict([[2010]])\n",
        "            #prediction of cost of cultivation\n",
        "            regressor.fit(X,W)\n",
        "            \n",
        "            cotton_predict_cost = regressor.predict([[2010]])\n",
        "        elif i == 2:\n",
        "            print(\"Sugarcane\")\n",
        "            crop=\"Sugarcane\"\n",
        "            data = pd.read_csv('/content/cropdata.csv')\n",
        "            data3=data.query('STATE == @location and CROP == @crop')\n",
        "            regressor=LinearRegression()\n",
        "            X=data3[['YEAR']]\n",
        "            Y=data3['YEILD']\n",
        "            Z=data3['PROFIT']\n",
        "            W=data3['COST OF CULTIVATION']\n",
        "            #prediction of the yeild\n",
        "            regressor.fit(X,Y)\n",
        "            sugarcane_predict_yeild = regressor.predict([[2010]])\n",
        "            #prediction of the profit\n",
        "            regressor.fit(X,Z)\n",
        "            sugarcane_predict_profit = regressor.predict([[2010]])\n",
        "            #prediction of cost of cultivation\n",
        "            regressor.fit(X,W)\n",
        "            sugarcane_predict_cost = regressor.predict([[2010]])\n",
        "        elif i == 3:\n",
        "            print(\"Wheat\")\n",
        "            crop=\"Wheat\"\n",
        "            data = pd.read_csv('/content/cropdata.csv')\n",
        "            data4=data.query('STATE == @location and CROP == @crop')\n",
        "            regressor=LinearRegression()\n",
        "            X=data4[['YEAR']]\n",
        "            Y=data4['YEILD']\n",
        "            Z=data4['PROFIT']\n",
        "            W=data4['COST OF CULTIVATION']\n",
        "            #prediction of yeild\n",
        "            regressor.fit(X,Y)\n",
        "            wheat_predict_yeild = regressor.predict([[2010]])\n",
        "            #prediction of the profit\n",
        "            regressor.fit(X,Z)\n",
        "            wheat_predict_profit = regressor.predict([[2010]])\n",
        "            #prediction of cost of cultivation\n",
        "            regressor.fit(X,W)\n",
        "            wheat_predict_cost = regressor.predict([[2010]])\n",
        "        elif i == 4:\n",
        "            print(\"Millets\")\n",
        "            crop=\"Millets\"\n",
        "            data = pd.read_csv('/content/cropdata.csv')\n",
        "            data5=data.query('STATE == @location and CROP == @crop')\n",
        "            regressor=LinearRegression()\n",
        "            X=data5[['YEAR']]\n",
        "            Y=data5['YEILD']\n",
        "            Z=data5['PROFIT']\n",
        "            W=data5['COST OF CULTIVATION']\n",
        "            #prediction of the yeild\n",
        "            regressor.fit(X,Y)\n",
        "            millets_predict_yeild = regressor.predict([[2010]])\n",
        "            #prediction of the profit\n",
        "            regressor.fit(X,Z)\n",
        "            millets_predict_profit = regressor.predict([[2010]])\n",
        "            #prediction of cost of cultivation\n",
        "            regressor.fit(X,W)\n",
        "            millets_predict_cost = regressor.predict([[2010]])\n",
        "        elif i == 5:\n",
        "            print(\"Cardamom\")\n",
        "            crop=\"Cardamom\"\n",
        "            data = pd.read_csv('/content/cropdata.csv')\n",
        "            data6=data.query('STATE == @location and CROP == @crop')\n",
        "            regressor=LinearRegression()\n",
        "            X=data6[['YEAR']]\n",
        "            Y=data6['YEILD']\n",
        "            Z=data6['PROFIT']\n",
        "            W=data6['COST OF CULTIVATION']\n",
        "            #prediction of the yeild\n",
        "            regressor.fit(X,Y)\n",
        "            carda_predict_yeild = regressor.predict([[2010]])\n",
        "            #prediction of the profit\n",
        "            regressor.fit(X,Z)\n",
        "            carda_predict_profit = regressor.predict([[2010]])\n",
        "            #prediction of cost of cultivation\n",
        "            regressor.fit(X,W)\n",
        "            carda_predict_cost = regressor.predict([[2010]])\n",
        "        elif i == 6:\n",
        "            print(\"Ginger\")\n",
        "            crop=\"Ginger\"\n",
        "            data = pd.read_csv('/content/cropdata.csv')\n",
        "            data7=data.query('STATE == @location and CROP == @crop')\n",
        "            regressor=LinearRegression()\n",
        "            X=data7[['YEAR']]\n",
        "            Y=data7['YEILD']\n",
        "            Z=data7['PROFIT']\n",
        "            W=data7['COST OF CULTIVATION']\n",
        "            #prediction of the yeild\n",
        "            regressor.fit(X,Y)\n",
        "            gin_predict_yeild = regressor.predict([[2010]])\n",
        "            #prediction of the profit\n",
        "            regressor.fit(X,Z)\n",
        "            gin_predict_profit = regressor.predict([[2010]])\n",
        "            #prediction of cost of cultivation\n",
        "            regressor.fit(X,W)\n",
        "            gin_predict_cost = regressor.predict([[2010]])\n",
        "        elif i == 7:\n",
        "            print(\"Coconut\")\n",
        "            crop=\"Coconut\"\n",
        "            data = pd.read_csv('/content/cropdata.csv')\n",
        "            data8=data.query('STATE == @location and CROP == @crop')\n",
        "            regressor=LinearRegression()\n",
        "            X=data8[['YEAR']]\n",
        "            Y=data8['YEILD']\n",
        "            Z=data8['PROFIT']\n",
        "            W=data8['COST OF CULTIVATION']\n",
        "            #prediction of the yeild\n",
        "            regressor.fit(X,Y)\n",
        "            coco_predict_yeild = regressor.predict([[2010]])\n",
        "            #prediction of the profit\n",
        "            regressor.fit(X,Z)\n",
        "            coco_predict_profit = regressor.predict([[2010]])\n",
        "            #prediction of cost of cultivation\n",
        "            regressor.fit(X,W)\n",
        "            coco_predict_cost = regressor.predict([[2010]])\n",
        "        elif i == 8:\n",
        "            print(\"Orange\")\n",
        "            crop=\"Orange\"\n",
        "            data = pd.read_csv('/content/cropdata.csv')\n",
        "            data9=data.query('STATE == @location and CROP == @crop')\n",
        "            regressor=LinearRegression()\n",
        "            X=data9[['YEAR']]\n",
        "            Y=data9['YEILD']\n",
        "            Z=data9['PROFIT']\n",
        "            W=data9['COST OF CULTIVATION']\n",
        "            #prediction of the yeild\n",
        "            regressor.fit(X,Y)\n",
        "            orange_predict_yeild = regressor.predict([[2010]])\n",
        "            #prediction of the profit\n",
        "            regressor.fit(X,Z)\n",
        "            orange_predict_profit = regressor.predict([[2010]])\n",
        "            #prediction of cost of cultivation\n",
        "            regressor.fit(X,W)\n",
        "            orange_predict_cost = regressor.predict([[2010]])\n",
        "        elif i == 9:\n",
        "            print(\"Soyabean\")\n",
        "            crop=\"Soyabean\"\n",
        "            data = pd.read_csv('/content/cropdata.csv')\n",
        "            data10=data.query('STATE == @location and CROP == @crop')\n",
        "            regressor=LinearRegression()\n",
        "            X=data10[['YEAR']]\n",
        "            Y=data10['YEILD']\n",
        "            Z=data10['PROFIT']\n",
        "            W=data10['COST OF CULTIVATION']\n",
        "            #prediction of the yeild\n",
        "            regressor.fit(X,Y)\n",
        "            soya_predict_yeild = regressor.predict([[2010]])\n",
        "            #prediction of the profit\n",
        "            regressor.fit(X,Z)\n",
        "            soya_predict_profit = regressor.predict([[2010]])\n",
        "            #prediction of cost of cultivation\n",
        "            regressor.fit(X,W)\n",
        "            soya_predict_cost = regressor.predict([[2010]])\n",
        "        elif i == 10:\n",
        "            print(\"Maize\")\n",
        "            crop=\"Maize\"\n",
        "            data = pd.read_csv('/content/cropdata.csv')\n",
        "            data11=data.query('STATE == @location and CROP == @crop')\n",
        "            regressor=LinearRegression()\n",
        "            X=data11[['YEAR']]\n",
        "            Y=data11['YEILD']\n",
        "            Z=data11['PROFIT']\n",
        "            W=data11['COST OF CULTIVATION']\n",
        "            #prediction of the yeild\n",
        "            regressor.fit(X,Y)\n",
        "            mai_predict_yeild = regressor.predict([[2010]])\n",
        "            #prediction of the profit\n",
        "            regressor.fit(X,Z)\n",
        "            mai_predict_profit = regressor.predict([[2010]])\n",
        "            #prediction of cost of cultivation\n",
        "            regressor.fit(X,W)\n",
        "            mai_predict_cost = regressor.predict([[2010]])\n"
      ],
      "metadata": {
        "colab": {
          "base_uri": "https://localhost:8080/"
        },
        "id": "vjja94dtvIY6",
        "outputId": "9f592a96-39e0-4307-efeb-3250c698f7cf"
      },
      "execution_count": 11,
      "outputs": [
        {
          "output_type": "stream",
          "name": "stdout",
          "text": [
            "Sugarcane\n"
          ]
        },
        {
          "output_type": "stream",
          "name": "stderr",
          "text": [
            "/usr/local/lib/python3.7/dist-packages/sklearn/base.py:451: UserWarning: X does not have valid feature names, but LinearRegression was fitted with feature names\n",
            "  \"X does not have valid feature names, but\"\n",
            "/usr/local/lib/python3.7/dist-packages/sklearn/base.py:451: UserWarning: X does not have valid feature names, but LinearRegression was fitted with feature names\n",
            "  \"X does not have valid feature names, but\"\n",
            "/usr/local/lib/python3.7/dist-packages/sklearn/base.py:451: UserWarning: X does not have valid feature names, but LinearRegression was fitted with feature names\n",
            "  \"X does not have valid feature names, but\"\n"
          ]
        }
      ]
    },
    {
      "cell_type": "code",
      "source": [
        "data"
      ],
      "metadata": {
        "colab": {
          "base_uri": "https://localhost:8080/",
          "height": 572
        },
        "id": "t1fYSCmOw6d1",
        "outputId": "26237048-e736-4b96-df8f-d628bad95eee"
      },
      "execution_count": 12,
      "outputs": [
        {
          "output_type": "execute_result",
          "data": {
            "text/plain": [
              "     Unnamed: 0  YEAR               STATE    CROP  YEILD  PROFIT  \\\n",
              "0             0  2008         Maharashtra    Rice   1.10    3465   \n",
              "1             1  2009         Maharashtra    Rice   1.20    3515   \n",
              "2             2  2010         Maharashtra    Rice   1.30    3565   \n",
              "3             3  2011         Maharashtra    Rice   1.40    3615   \n",
              "4             4  2012         Maharashtra    Rice   1.50    3665   \n",
              "..          ...   ...                 ...     ...    ...     ...   \n",
              "270         270  2014  Jammu and Kashimir  Cotton   3.06   10182   \n",
              "271         271  2015  Jammu and Kashimir  Cotton   3.33   11642   \n",
              "272         272  2016  Jammu and Kashimir  Cotton   3.60   13102   \n",
              "273         273  2017  Jammu and Kashimir  Cotton   3.87   14562   \n",
              "274         274  2018  Jammu and Kashimir  Cotton   4.14   16022   \n",
              "\n",
              "     COST OF CULTIVATION  \n",
              "0                   9273  \n",
              "1                   9898  \n",
              "2                  10523  \n",
              "3                  11148  \n",
              "4                  11773  \n",
              "..                   ...  \n",
              "270                 5686  \n",
              "271                 6208  \n",
              "272                 6730  \n",
              "273                 7252  \n",
              "274                 7774  \n",
              "\n",
              "[275 rows x 7 columns]"
            ],
            "text/html": [
              "\n",
              "  <div id=\"df-1114cde7-855c-4fab-9689-f4ae1c75a91d\">\n",
              "    <div class=\"colab-df-container\">\n",
              "      <div>\n",
              "<style scoped>\n",
              "    .dataframe tbody tr th:only-of-type {\n",
              "        vertical-align: middle;\n",
              "    }\n",
              "\n",
              "    .dataframe tbody tr th {\n",
              "        vertical-align: top;\n",
              "    }\n",
              "\n",
              "    .dataframe thead th {\n",
              "        text-align: right;\n",
              "    }\n",
              "</style>\n",
              "<table border=\"1\" class=\"dataframe\">\n",
              "  <thead>\n",
              "    <tr style=\"text-align: right;\">\n",
              "      <th></th>\n",
              "      <th>Unnamed: 0</th>\n",
              "      <th>YEAR</th>\n",
              "      <th>STATE</th>\n",
              "      <th>CROP</th>\n",
              "      <th>YEILD</th>\n",
              "      <th>PROFIT</th>\n",
              "      <th>COST OF CULTIVATION</th>\n",
              "    </tr>\n",
              "  </thead>\n",
              "  <tbody>\n",
              "    <tr>\n",
              "      <th>0</th>\n",
              "      <td>0</td>\n",
              "      <td>2008</td>\n",
              "      <td>Maharashtra</td>\n",
              "      <td>Rice</td>\n",
              "      <td>1.10</td>\n",
              "      <td>3465</td>\n",
              "      <td>9273</td>\n",
              "    </tr>\n",
              "    <tr>\n",
              "      <th>1</th>\n",
              "      <td>1</td>\n",
              "      <td>2009</td>\n",
              "      <td>Maharashtra</td>\n",
              "      <td>Rice</td>\n",
              "      <td>1.20</td>\n",
              "      <td>3515</td>\n",
              "      <td>9898</td>\n",
              "    </tr>\n",
              "    <tr>\n",
              "      <th>2</th>\n",
              "      <td>2</td>\n",
              "      <td>2010</td>\n",
              "      <td>Maharashtra</td>\n",
              "      <td>Rice</td>\n",
              "      <td>1.30</td>\n",
              "      <td>3565</td>\n",
              "      <td>10523</td>\n",
              "    </tr>\n",
              "    <tr>\n",
              "      <th>3</th>\n",
              "      <td>3</td>\n",
              "      <td>2011</td>\n",
              "      <td>Maharashtra</td>\n",
              "      <td>Rice</td>\n",
              "      <td>1.40</td>\n",
              "      <td>3615</td>\n",
              "      <td>11148</td>\n",
              "    </tr>\n",
              "    <tr>\n",
              "      <th>4</th>\n",
              "      <td>4</td>\n",
              "      <td>2012</td>\n",
              "      <td>Maharashtra</td>\n",
              "      <td>Rice</td>\n",
              "      <td>1.50</td>\n",
              "      <td>3665</td>\n",
              "      <td>11773</td>\n",
              "    </tr>\n",
              "    <tr>\n",
              "      <th>...</th>\n",
              "      <td>...</td>\n",
              "      <td>...</td>\n",
              "      <td>...</td>\n",
              "      <td>...</td>\n",
              "      <td>...</td>\n",
              "      <td>...</td>\n",
              "      <td>...</td>\n",
              "    </tr>\n",
              "    <tr>\n",
              "      <th>270</th>\n",
              "      <td>270</td>\n",
              "      <td>2014</td>\n",
              "      <td>Jammu and Kashimir</td>\n",
              "      <td>Cotton</td>\n",
              "      <td>3.06</td>\n",
              "      <td>10182</td>\n",
              "      <td>5686</td>\n",
              "    </tr>\n",
              "    <tr>\n",
              "      <th>271</th>\n",
              "      <td>271</td>\n",
              "      <td>2015</td>\n",
              "      <td>Jammu and Kashimir</td>\n",
              "      <td>Cotton</td>\n",
              "      <td>3.33</td>\n",
              "      <td>11642</td>\n",
              "      <td>6208</td>\n",
              "    </tr>\n",
              "    <tr>\n",
              "      <th>272</th>\n",
              "      <td>272</td>\n",
              "      <td>2016</td>\n",
              "      <td>Jammu and Kashimir</td>\n",
              "      <td>Cotton</td>\n",
              "      <td>3.60</td>\n",
              "      <td>13102</td>\n",
              "      <td>6730</td>\n",
              "    </tr>\n",
              "    <tr>\n",
              "      <th>273</th>\n",
              "      <td>273</td>\n",
              "      <td>2017</td>\n",
              "      <td>Jammu and Kashimir</td>\n",
              "      <td>Cotton</td>\n",
              "      <td>3.87</td>\n",
              "      <td>14562</td>\n",
              "      <td>7252</td>\n",
              "    </tr>\n",
              "    <tr>\n",
              "      <th>274</th>\n",
              "      <td>274</td>\n",
              "      <td>2018</td>\n",
              "      <td>Jammu and Kashimir</td>\n",
              "      <td>Cotton</td>\n",
              "      <td>4.14</td>\n",
              "      <td>16022</td>\n",
              "      <td>7774</td>\n",
              "    </tr>\n",
              "  </tbody>\n",
              "</table>\n",
              "<p>275 rows × 7 columns</p>\n",
              "</div>\n",
              "      <button class=\"colab-df-convert\" onclick=\"convertToInteractive('df-1114cde7-855c-4fab-9689-f4ae1c75a91d')\"\n",
              "              title=\"Convert this dataframe to an interactive table.\"\n",
              "              style=\"display:none;\">\n",
              "        \n",
              "  <svg xmlns=\"http://www.w3.org/2000/svg\" height=\"24px\"viewBox=\"0 0 24 24\"\n",
              "       width=\"24px\">\n",
              "    <path d=\"M0 0h24v24H0V0z\" fill=\"none\"/>\n",
              "    <path d=\"M18.56 5.44l.94 2.06.94-2.06 2.06-.94-2.06-.94-.94-2.06-.94 2.06-2.06.94zm-11 1L8.5 8.5l.94-2.06 2.06-.94-2.06-.94L8.5 2.5l-.94 2.06-2.06.94zm10 10l.94 2.06.94-2.06 2.06-.94-2.06-.94-.94-2.06-.94 2.06-2.06.94z\"/><path d=\"M17.41 7.96l-1.37-1.37c-.4-.4-.92-.59-1.43-.59-.52 0-1.04.2-1.43.59L10.3 9.45l-7.72 7.72c-.78.78-.78 2.05 0 2.83L4 21.41c.39.39.9.59 1.41.59.51 0 1.02-.2 1.41-.59l7.78-7.78 2.81-2.81c.8-.78.8-2.07 0-2.86zM5.41 20L4 18.59l7.72-7.72 1.47 1.35L5.41 20z\"/>\n",
              "  </svg>\n",
              "      </button>\n",
              "      \n",
              "  <style>\n",
              "    .colab-df-container {\n",
              "      display:flex;\n",
              "      flex-wrap:wrap;\n",
              "      gap: 12px;\n",
              "    }\n",
              "\n",
              "    .colab-df-convert {\n",
              "      background-color: #E8F0FE;\n",
              "      border: none;\n",
              "      border-radius: 50%;\n",
              "      cursor: pointer;\n",
              "      display: none;\n",
              "      fill: #1967D2;\n",
              "      height: 32px;\n",
              "      padding: 0 0 0 0;\n",
              "      width: 32px;\n",
              "    }\n",
              "\n",
              "    .colab-df-convert:hover {\n",
              "      background-color: #E2EBFA;\n",
              "      box-shadow: 0px 1px 2px rgba(60, 64, 67, 0.3), 0px 1px 3px 1px rgba(60, 64, 67, 0.15);\n",
              "      fill: #174EA6;\n",
              "    }\n",
              "\n",
              "    [theme=dark] .colab-df-convert {\n",
              "      background-color: #3B4455;\n",
              "      fill: #D2E3FC;\n",
              "    }\n",
              "\n",
              "    [theme=dark] .colab-df-convert:hover {\n",
              "      background-color: #434B5C;\n",
              "      box-shadow: 0px 1px 3px 1px rgba(0, 0, 0, 0.15);\n",
              "      filter: drop-shadow(0px 1px 2px rgba(0, 0, 0, 0.3));\n",
              "      fill: #FFFFFF;\n",
              "    }\n",
              "  </style>\n",
              "\n",
              "      <script>\n",
              "        const buttonEl =\n",
              "          document.querySelector('#df-1114cde7-855c-4fab-9689-f4ae1c75a91d button.colab-df-convert');\n",
              "        buttonEl.style.display =\n",
              "          google.colab.kernel.accessAllowed ? 'block' : 'none';\n",
              "\n",
              "        async function convertToInteractive(key) {\n",
              "          const element = document.querySelector('#df-1114cde7-855c-4fab-9689-f4ae1c75a91d');\n",
              "          const dataTable =\n",
              "            await google.colab.kernel.invokeFunction('convertToInteractive',\n",
              "                                                     [key], {});\n",
              "          if (!dataTable) return;\n",
              "\n",
              "          const docLinkHtml = 'Like what you see? Visit the ' +\n",
              "            '<a target=\"_blank\" href=https://colab.research.google.com/notebooks/data_table.ipynb>data table notebook</a>'\n",
              "            + ' to learn more about interactive tables.';\n",
              "          element.innerHTML = '';\n",
              "          dataTable['output_type'] = 'display_data';\n",
              "          await google.colab.output.renderOutput(dataTable, element);\n",
              "          const docLink = document.createElement('div');\n",
              "          docLink.innerHTML = docLinkHtml;\n",
              "          element.appendChild(docLink);\n",
              "        }\n",
              "      </script>\n",
              "    </div>\n",
              "  </div>\n",
              "  "
            ]
          },
          "metadata": {},
          "execution_count": 12
        }
      ]
    },
    {
      "cell_type": "code",
      "source": [
        "if rice_predict_yeild != \"\" :\n",
        "    print(rice_predict_yeild)\n",
        "if rice_predict_profit != \"\" :\n",
        "    print(rice_predict_profit)\n",
        "if rice_predict_cost !=\"\" :\n",
        "    print(rice_predict_cost)\n",
        "\n",
        "    \n",
        "#displaying the prediction data (for COTTON)\n",
        "if cotton_predict_yeild != \"\" :\n",
        "    print(cotton_predict_yeild)\n",
        "if cotton_predict_profit != \"\":\n",
        "    print(cotton_predict_profit)\n",
        "if cotton_predict_cost != \"\":\n",
        "    print(cotton_predict_cost)\n",
        "\n",
        "#diplaying the prediction data (for SUGARCANE)\n",
        "if sugarcane_predict_yeild != \"\":\n",
        "    print(sugarcane_predict_yeild)\n",
        "if sugarcane_predict_profit !=\"\":\n",
        "    print(sugarcane_predict_profit)\n",
        "if sugarcane_predict_cost != \"\":\n",
        "    print(sugarcane_predict_cost)\n",
        "\n",
        "#displaying prediction data (for WHEAT)\n",
        "if wheat_predict_yeild != \"\":\n",
        "    print(wheat_predict_yeild)\n",
        "if wheat_predict_profit !=\"\":\n",
        "    print(wheat_predict_profit)\n",
        "if wheat_predict_cost != \"\":\n",
        "    print(wheat_predict_cost)\n",
        "\n",
        "#displaying prediction data(for MILLETS)\n",
        "if millets_predict_yeild != \"\":\n",
        "    print(millets_predict_yeild)\n",
        "if millets_predict_profit !=\"\":\n",
        "    print(millets_predict_profit)\n",
        "if millets_predict_cost != \"\":\n",
        "    print(millets_predict_cost)\n",
        "    \n",
        "\n",
        "#displaying prediction data(for CARDAMOM)\n",
        "if carda_predict_yeild != \"\":\n",
        "    print(carda_predict_yeild)\n",
        "if carda_predict_profit !=\"\":\n",
        "    print(carda_predict_profit)\n",
        "if carda_predict_cost != \"\":\n",
        "    print(carda_predict_cost)\n",
        "\n",
        "#displaying prediction data(for GINGER)\n",
        "if gin_predict_yeild != \"\":\n",
        "    print(gin_predict_yeild)\n",
        "if gin_predict_profit !=\"\":\n",
        "    print(gin_predict_profit)\n",
        "if gin_predict_cost != \"\":\n",
        "    print(gin_predict_cost)\n",
        "    \n",
        "#displaying prediction data(for COCONUT)\n",
        "if coco_predict_yeild != \"\":\n",
        "    print(coco_predict_yeild)\n",
        "if coco_predict_profit !=\"\":\n",
        "    print(coco_predict_profit)\n",
        "if coco_predict_cost != \"\":\n",
        "    print(coco_predict_cost)\n",
        "\n",
        "#displaying prediction data(for ORANGE)\n",
        "if orange_predict_yeild != \"\":\n",
        "    print(orange_predict_yeild)\n",
        "if orange_predict_profit !=\"\":\n",
        "    print(orange_predict_profit)\n",
        "if orange_predict_cost != \"\":\n",
        "    print(orange_predict_cost)\n",
        "    \n",
        "#displaying prediction data(for SOYABEAN)\n",
        "if soya_predict_yeild != \"\":\n",
        "    print(soya_predict_yeild)\n",
        "if soya_predict_profit !=\"\":\n",
        "    print(soya_predict_profit)\n",
        "if soya_predict_cost != \"\":\n",
        "    print(soya_predict_cost)\n",
        "    \n",
        "#displaying prediction data(for MAIZE)\n",
        "if mai_predict_yeild != \"\":\n",
        "    print(mai_predict_yeild)\n",
        "if mai_predict_profit !=\"\":\n",
        "    print(mai_predict_profit)\n",
        "if mai_predict_cost != \"\":\n",
        "    print(mai_predict_cost)"
      ],
      "metadata": {
        "colab": {
          "base_uri": "https://localhost:8080/"
        },
        "id": "20MiK3NIm7IA",
        "outputId": "64f3535f-6084-4b20-ae6f-6ab85b224d37"
      },
      "execution_count": 13,
      "outputs": [
        {
          "output_type": "stream",
          "name": "stdout",
          "text": [
            "[3.2]\n",
            "[9294.]\n",
            "[3408.]\n"
          ]
        },
        {
          "output_type": "stream",
          "name": "stderr",
          "text": [
            "/usr/local/lib/python3.7/dist-packages/ipykernel_launcher.py:18: FutureWarning: elementwise comparison failed; returning scalar instead, but in the future will perform elementwise comparison\n",
            "/usr/local/lib/python3.7/dist-packages/ipykernel_launcher.py:20: FutureWarning: elementwise comparison failed; returning scalar instead, but in the future will perform elementwise comparison\n",
            "/usr/local/lib/python3.7/dist-packages/ipykernel_launcher.py:22: FutureWarning: elementwise comparison failed; returning scalar instead, but in the future will perform elementwise comparison\n"
          ]
        }
      ]
    },
    {
      "cell_type": "code",
      "source": [
        ""
      ],
      "metadata": {
        "id": "u9A6Qo2Bm7M5"
      },
      "execution_count": 13,
      "outputs": []
    },
    {
      "cell_type": "code",
      "source": [
        ""
      ],
      "metadata": {
        "id": "8ZF9ixZ2m7SO"
      },
      "execution_count": 19,
      "outputs": []
    },
    {
      "cell_type": "code",
      "source": [
        "from sklearn.linear_model import LinearRegression\n",
        "regressor=LinearRegression()\n",
        "X=data1[['YEAR']]\n",
        "Y=data1['YEILD']"
      ],
      "metadata": {
        "id": "r6ZcECYwm7Xx"
      },
      "execution_count": 20,
      "outputs": []
    },
    {
      "cell_type": "code",
      "source": [
        ""
      ],
      "metadata": {
        "id": "lGynEidMm7eV"
      },
      "execution_count": 20,
      "outputs": []
    },
    {
      "cell_type": "code",
      "source": [
        "from sklearn.model_selection import train_test_split\n",
        "X_train,X_test,Y_train,Y_test =train_test_split(X,Y,test_size =0.20,random_state=0)\n",
        "from sklearn.linear_model import LinearRegression"
      ],
      "metadata": {
        "id": "n3Lu8xqDm7lT"
      },
      "execution_count": 21,
      "outputs": []
    },
    {
      "cell_type": "code",
      "source": [
        "regressor=LinearRegression()\n",
        "regressor.fit(X_train,Y_train)"
      ],
      "metadata": {
        "colab": {
          "base_uri": "https://localhost:8080/"
        },
        "id": "Lvd1wGPOm7qz",
        "outputId": "1aaa86ea-44fb-416c-911a-af6e8998f57c"
      },
      "execution_count": 22,
      "outputs": [
        {
          "output_type": "execute_result",
          "data": {
            "text/plain": [
              "LinearRegression()"
            ]
          },
          "metadata": {},
          "execution_count": 22
        }
      ]
    },
    {
      "cell_type": "code",
      "source": [
        "regressor.score(X_train,Y_train)*100"
      ],
      "metadata": {
        "colab": {
          "base_uri": "https://localhost:8080/"
        },
        "id": "iNNAaEvkm7wy",
        "outputId": "e978af75-276a-4433-a1e3-2835a559cc8d"
      },
      "execution_count": 23,
      "outputs": [
        {
          "output_type": "execute_result",
          "data": {
            "text/plain": [
              "100.0"
            ]
          },
          "metadata": {},
          "execution_count": 23
        }
      ]
    },
    {
      "cell_type": "code",
      "source": [
        "Y_pred=regressor.predict(X_test)"
      ],
      "metadata": {
        "id": "_sAbpTIYm715"
      },
      "execution_count": 24,
      "outputs": []
    },
    {
      "cell_type": "code",
      "source": [
        "result=pd.DataFrame({'Actual':Y_test,'Predicted':Y_pred})\n",
        "print(result)\n",
        "plt.plot(X_test,Y_test)\n",
        "plt.show()"
      ],
      "metadata": {
        "colab": {
          "base_uri": "https://localhost:8080/",
          "height": 334
        },
        "id": "cW-7fb3fo4Mw",
        "outputId": "6ef0b676-9073-4e74-c741-a38908e5b93a"
      },
      "execution_count": 25,
      "outputs": [
        {
          "output_type": "stream",
          "name": "stdout",
          "text": [
            "   Actual  Predicted\n",
            "4     1.5        1.5\n",
            "9     2.0        2.0\n",
            "2     1.3        1.3\n"
          ]
        },
        {
          "output_type": "display_data",
          "data": {
            "text/plain": [
              "<Figure size 432x288 with 1 Axes>"
            ],
            "image/png": "[encoded data removed]"
          },
          "metadata": {
            "needs_background": "light"
          }
        }
      ]
    },
    {
      "cell_type": "code",
      "source": [
        "import numpy as np\n",
        "\n",
        "N = 11\n",
        "width = 0.35\n",
        "ind = np.arange(N)\n",
        "B1 = data1['YEAR'].values\n",
        "B2 = data1['YEILD'].values\n",
        "B3 = data1['PROFIT'].values\n",
        "B4 = data1['COST OF CULTIVATION'].values\n",
        "\n",
        "plt.bar(ind,B2,width, label='Men')\n",
        "plt.bar(ind + width,B3,width, label='woMen')"
      ],
      "metadata": {
        "colab": {
          "base_uri": "https://localhost:8080/",
          "height": 282
        },
        "id": "MdQnkORko4TV",
        "outputId": "4ba5b761-6883-4415-e38f-911ee4996dd9"
      },
      "execution_count": 26,
      "outputs": [
        {
          "output_type": "execute_result",
          "data": {
            "text/plain": [
              "<BarContainer object of 11 artists>"
            ]
          },
          "metadata": {},
          "execution_count": 26
        },
        {
          "output_type": "display_data",
          "data": {
            "text/plain": [
              "<Figure size 432x288 with 1 Axes>"
            ],
            "image/png": "[encoded data removed]"
          },
          "metadata": {
            "needs_background": "light"
          }
        }
      ]
    },
    {
      "cell_type": "code",
      "source": [
        "import numpy as np\n",
        "\n",
        "N = 5\n",
        "men_means = (20, 35, 30, 35, 27)\n",
        "women_means = (25, 32, 34, 20, 25)\n",
        "\n",
        "ind = np.arange(N) \n",
        "width = 0.35       \n",
        "plt.bar(ind, men_means, width, label='Men')\n",
        "plt.bar(ind + width, women_means, width,\n",
        "    label='Women')\n",
        "\n",
        "# plt.ylabel('Scores')\n",
        "# plt.title('Scores by group and gender')\n",
        "\n",
        "# plt.xticks(ind + width / 2, ('G1', 'G2', 'G3', 'G4', 'G5'))\n",
        "# plt.legend(loc='best')\n",
        "plt.show()"
      ],
      "metadata": {
        "colab": {
          "base_uri": "https://localhost:8080/",
          "height": 265
        },
        "id": "Zk2p1-Pho4bk",
        "outputId": "6bc42e61-4aa5-4f64-d6f4-315364efe02d"
      },
      "execution_count": 27,
      "outputs": [
        {
          "output_type": "display_data",
          "data": {
            "text/plain": [
              "<Figure size 432x288 with 1 Axes>"
            ],
            "image/png": "[encoded data removed]"
          },
          "metadata": {
            "needs_background": "light"
          }
        }
      ]
    },
    {
      "cell_type": "code",
      "source": [
        ""
      ],
      "metadata": {
        "id": "u3avC8jvo4kY"
      },
      "execution_count": 27,
      "outputs": []
    }
  ]
}