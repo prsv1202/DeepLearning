{
 "cells": [
  {
   "cell_type": "code",
   "execution_count": 1,
   "id": "fe2b874f",
   "metadata": {},
   "outputs": [],
   "source": [
    "import os\n",
    "\n",
    "import pandas as pd\n",
    "import numpy as np\n",
    "import matplotlib.pyplot as plt\n",
    "import seaborn as sns\n",
    "\n",
    "\n",
    "%matplotlib inline\n",
    "sns.set_style('darkgrid')"
   ]
  },
  {
   "cell_type": "code",
   "execution_count": null,
   "id": "3c117e09",
   "metadata": {},
   "outputs": [],
   "source": [
    "\n",
    "forest_df = pd.read_csv('../input/forest-firearea-datasets/forestfires.csv', delimiter=',',  )\n",
    "forest_df.head(20)"
   ]
  },
  {
   "cell_type": "code",
   "execution_count": null,
   "id": "5c3e2e21",
   "metadata": {},
   "outputs": [],
   "source": [
    "forest_df.shape"
   ]
  },
  {
   "cell_type": "code",
   "execution_count": null,
   "id": "e2ab0f75",
   "metadata": {},
   "outputs": [],
   "source": [
    "feature_names = forest_df.columns\n",
    "\n",
    "feature_names"
   ]
  },
  {
   "cell_type": "code",
   "execution_count": null,
   "id": "37486a22",
   "metadata": {},
   "outputs": [],
   "source": [
    "forest_df.info()"
   ]
  },
  {
   "cell_type": "code",
   "execution_count": null,
   "id": "077e7867",
   "metadata": {},
   "outputs": [],
   "source": [
    "forest_df.describe(include=['O'])"
   ]
  },
  {
   "cell_type": "code",
   "execution_count": null,
   "id": "f88b7060",
   "metadata": {},
   "outputs": [],
   "source": [
    "categorical_feature = forest_df.describe(include=['O']).columns\n",
    "\n",
    "# Print it in list type ...\n",
    "print(list(categorical_feature))"
   ]
  },
  {
   "cell_type": "code",
   "execution_count": null,
   "id": "b73efbc4",
   "metadata": {},
   "outputs": [],
   "source": [
    "forest_df['month'].value_counts()"
   ]
  },
  {
   "cell_type": "code",
   "execution_count": null,
   "id": "7ac8bf56",
   "metadata": {},
   "outputs": [],
   "source": [
    "forest_df['day'].value_counts()"
   ]
  },
  {
   "cell_type": "code",
   "execution_count": null,
   "id": "30ff36d6",
   "metadata": {},
   "outputs": [],
   "source": [
    "forest_df.describe(include=[\"int\", \"float\"])"
   ]
  },
  {
   "cell_type": "code",
   "execution_count": null,
   "id": "921752f4",
   "metadata": {},
   "outputs": [],
   "source": [
    "numerical_feature = forest_df.describe(include=[\"int\", \"float\"]).columns\n",
    "\n",
    "# Print it in list type ..\n",
    "print(list(numerical_feature))"
   ]
  },
  {
   "cell_type": "code",
   "execution_count": null,
   "id": "1dc87314",
   "metadata": {},
   "outputs": [],
   "source": [
    "forest_df['area_km'] = forest_df['area'] / 100\n",
    "\n",
    "forest_df"
   ]
  },
  {
   "cell_type": "code",
   "execution_count": null,
   "id": "a7ceacc5",
   "metadata": {},
   "outputs": [],
   "source": [
    "forest_df.sort_values(by=\"area_km\", ascending=False).head()\n"
   ]
  },
  {
   "cell_type": "code",
   "execution_count": null,
   "id": "53036fd5",
   "metadata": {},
   "outputs": [],
   "source": [
    "highest_fire_area = forest_df.sort_values(by=\"area_km\", ascending=True)\n",
    "\n",
    "plt.figure(figsize=(8, 6))\n",
    "\n",
    "plt.title(\"Temperature vs area of fire\" )\n",
    "plt.bar(highest_fire_area['temp'], highest_fire_area['area_km'])\n",
    "\n",
    "plt.xlabel(\"Temperature\")\n",
    "plt.ylabel(\"Area per km-sq\")\n",
    "plt.show()"
   ]
  },
  {
   "cell_type": "code",
   "execution_count": null,
   "id": "fbc99497",
   "metadata": {},
   "outputs": [],
   "source": [
    "print(categorical_feature)\n",
    "\n",
    "\n",
    "plt.figure(figsize=(10, 5))\n",
    "for idx, column in enumerate(categorical_feature):\n",
    "    df = forest_df.copy()\n",
    "    unique = df[column].value_counts(ascending=True);\n",
    " \n",
    "    plt.subplot(1, 2, idx+1)    \n",
    "    plt.title(\"Count of \"+ column)\n",
    "    plt.bar(unique.index, unique.values);\n",
    "    \n",
    "    plt.xlabel(column)\n",
    "    plt.ylabel(\"Number of \"+ column)\n",
    "    \n",
    "plt.tight_layout()\n",
    "plt.show()  "
   ]
  },
  {
   "cell_type": "code",
   "execution_count": null,
   "id": "4de83d56",
   "metadata": {},
   "outputs": [],
   "source": [
    "len(numerical_feature)\n",
    "\n",
    "# forest_df[numerical_feature]\n",
    "forest_df[categorical_feature]"
   ]
  },
  {
   "cell_type": "code",
   "execution_count": null,
   "id": "61b7cac4",
   "metadata": {},
   "outputs": [],
   "source": [
    "sns.set_style('darkgrid')\n",
    "# Find the relation\n",
    "# plt.subplot(forest_df)\n",
    "\n",
    "sns.pairplot(forest_df[[\"temp\", \"wind\", \"rain\", \"area_km\"]])\n",
    "plt.show()"
   ]
  },
  {
   "cell_type": "code",
   "execution_count": null,
   "id": "d0c90ab9",
   "metadata": {},
   "outputs": [],
   "source": [
    "plt.figure(figsize=(15, 12))\n",
    "\n",
    "plt.title(\"Heatmap Relation\")\n",
    "\n",
    "sns.heatmap(forest_df[numerical_feature].corr(), annot=True, fmt='.2f');"
   ]
  },
  {
   "cell_type": "code",
   "execution_count": null,
   "id": "873573cd",
   "metadata": {},
   "outputs": [],
   "source": [
    "plt.figure(figsize=(10, 7))\n",
    "\n",
    "plt.scatter(forest_df['X'], forest_df['area_km'])\n",
    "plt.scatter(forest_df['Y'], forest_df['area_km'])\n",
    "\n",
    "\n",
    "plt.show()"
   ]
  },
  {
   "cell_type": "code",
   "execution_count": null,
   "id": "7f7905ec",
   "metadata": {},
   "outputs": [],
   "source": [
    "highest_rain = forest_df.sort_values(by='rain', ascending=False)[['month', 'day', 'rain']].head()\n",
    "highest_rain"
   ]
  },
  {
   "cell_type": "code",
   "execution_count": null,
   "id": "a17b974c",
   "metadata": {},
   "outputs": [],
   "source": [
    "highest_temp = forest_df.sort_values(by='temp', ascending=False)[['month', 'day', 'temp']].head()\n",
    "\n",
    "lowest_temp =  forest_df.sort_values(by='temp', ascending=True)[['month', 'day', 'temp']].head()\n",
    "\n",
    "print(\"Highest Temperature\")\n",
    "\n",
    "print(highest_temp)\n",
    "\n",
    "print()\n",
    "\n",
    "print()\n",
    "\n",
    "print(\"Lowest Temperature\")\n",
    "print(lowest_temp)\n"
   ]
  },
  {
   "cell_type": "code",
   "execution_count": null,
   "id": "0ba0d544",
   "metadata": {},
   "outputs": [],
   "source": [
    "plt.figure(figsize=(9, 6))\n",
    "\n",
    "plt.title(\"Highest Temperature in Aug.  Month\")\n",
    "\n",
    "plt.bar(highest_temp['day'], highest_temp['temp'])\n",
    "\n",
    "plt.xlabel(\"Day\")\n",
    "plt.xlabel(\"Aug. Month\")\n",
    "\n",
    "\n",
    "plt.ylabel(\"Temperature\")\n",
    "plt.show()"
   ]
  },
  {
   "cell_type": "code",
   "execution_count": null,
   "id": "272d49bc",
   "metadata": {},
   "outputs": [],
   "source": [
    "plt.figure(figsize=(9, 6))\n",
    "\n",
    "plt.title(\"Lowest Temperature in Dec. and Feb.  Month\")\n",
    "\n",
    "plt.bar(lowest_temp['day'], lowest_temp['temp'])\n",
    "\n",
    "plt.xlabel(\"Day\")\n",
    "plt.xlabel(\"Dec. and Feb. Month\")\n",
    "\n",
    "plt.ylabel(\"Temperature\")\n",
    "\n",
    "plt.show()"
   ]
  },
  {
   "cell_type": "code",
   "execution_count": null,
   "id": "843f3117",
   "metadata": {},
   "outputs": [],
   "source": [
    "forest_df"
   ]
  },
  {
   "cell_type": "code",
   "execution_count": null,
   "id": "a7d99682",
   "metadata": {},
   "outputs": [],
   "source": []
  },
  {
   "cell_type": "code",
   "execution_count": null,
   "id": "bc306a73",
   "metadata": {},
   "outputs": [],
   "source": []
  },
  {
   "cell_type": "code",
   "execution_count": null,
   "id": "f59a6a3c",
   "metadata": {},
   "outputs": [],
   "source": []
  }
 ],
 "metadata": {
  "kernelspec": {
   "display_name": "Python 3 (ipykernel)",
   "language": "python",
   "name": "python3"
  },
  "language_info": {
   "codemirror_mode": {
    "name": "ipython",
    "version": 3
   },
   "file_extension": ".py",
   "mimetype": "text/x-python",
   "name": "python",
   "nbconvert_exporter": "python",
   "pygments_lexer": "ipython3",
   "version": "3.9.5"
  }
 },
 "nbformat": 4,
 "nbformat_minor": 5
}
